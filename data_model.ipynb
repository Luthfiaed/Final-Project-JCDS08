{
 "cells": [
  {
   "cell_type": "code",
   "execution_count": 2,
   "metadata": {},
   "outputs": [],
   "source": [
    "import pandas as pd\n",
    "import numpy as np\n",
    "import mysql.connector\n",
    "import matplotlib.pyplot as plt\n",
    "import nltk\n",
    "import re\n",
    "from sklearn.feature_extraction.text import TfidfVectorizer\n",
    "from sklearn.metrics.pairwise import cosine_similarity\n",
    "import spacy\n",
    "import en_core_web_sm\n",
    "import joblib"
   ]
  },
  {
   "cell_type": "code",
   "execution_count": 3,
   "metadata": {},
   "outputs": [],
   "source": [
    "# Open connection to MySQL\n",
    "\n",
    "connection = mysql.connector.connect(host = 'localhost', port = 3306, user = 'Luthfiaed', passwd = 'Lupicemput29GC', database = 'final_project')\n",
    "database = connection.cursor(dictionary=True)"
   ]
  },
  {
   "cell_type": "code",
   "execution_count": 5,
   "metadata": {},
   "outputs": [],
   "source": [
    "# Extract data from MySQL to dataframe\n",
    "query = 'SELECT * FROM imdbMovies;'\n",
    "database.execute(query)\n",
    "data = database.fetchall()\n",
    "\n",
    "dfImdb = pd.DataFrame(data)"
   ]
  },
  {
   "cell_type": "code",
   "execution_count": 7,
   "metadata": {},
   "outputs": [
    {
     "name": "stderr",
     "output_type": "stream",
     "text": [
      "<ipython-input-7-61f3993827c8>:3: UserWarning: Boolean Series key will be reindexed to match DataFrame index.\n",
      "  dfImdb1990 = dfImdbEng[dfImdb.year >= 1990]\n",
      "<ipython-input-7-61f3993827c8>:4: UserWarning: Boolean Series key will be reindexed to match DataFrame index.\n",
      "  dfImdb_clean = dfImdb1990[dfImdb.description.notnull()]\n",
      "c:\\users\\luthf\\appdata\\local\\programs\\python\\python38\\lib\\site-packages\\pandas\\core\\generic.py:5303: SettingWithCopyWarning: \n",
      "A value is trying to be set on a copy of a slice from a DataFrame.\n",
      "Try using .loc[row_indexer,col_indexer] = value instead\n",
      "\n",
      "See the caveats in the documentation: https://pandas.pydata.org/pandas-docs/stable/user_guide/indexing.html#returning-a-view-versus-a-copy\n",
      "  self[name] = value\n"
     ]
    },
    {
     "data": {
      "text/plain": [
       "(28257, 22)"
      ]
     },
     "execution_count": 7,
     "metadata": {},
     "output_type": "execute_result"
    }
   ],
   "source": [
    "# Select data based on criteria \n",
    "dfImdbEng = dfImdb[dfImdb.language.astype('str').str.contains(\"English\")] \n",
    "dfImdb1990 = dfImdbEng[dfImdb.year >= 1990]\n",
    "dfImdb_clean = dfImdb1990[dfImdb.description.notnull()]\n",
    "dfImdb_clean.title = dfImdb_clean.title.apply(lambda x: x.lower())\n",
    "\n",
    "dfImdb_clean.shape"
   ]
  },
  {
   "cell_type": "code",
   "execution_count": 8,
   "metadata": {},
   "outputs": [
    {
     "name": "stdout",
     "output_type": "stream",
     "text": [
      "<class 'pandas.core.frame.DataFrame'>\n",
      "Int64Index: 28257 entries, 4115 to 81266\n",
      "Data columns (total 22 columns):\n",
      " #   Column                  Non-Null Count  Dtype  \n",
      "---  ------                  --------------  -----  \n",
      " 0   imdb_title_id           28257 non-null  object \n",
      " 1   title                   28257 non-null  object \n",
      " 2   original_title          28257 non-null  object \n",
      " 3   year                    28257 non-null  int64  \n",
      " 4   date_published          28257 non-null  object \n",
      " 5   genre                   28257 non-null  object \n",
      " 6   duration                28257 non-null  int64  \n",
      " 7   country                 28239 non-null  object \n",
      " 8   language                28257 non-null  object \n",
      " 9   director                28228 non-null  object \n",
      " 10  writer                  28040 non-null  object \n",
      " 11  production_company      27060 non-null  object \n",
      " 12  actors                  28234 non-null  object \n",
      " 13  description             28257 non-null  object \n",
      " 14  avg_vote                28257 non-null  float64\n",
      " 15  votes                   28257 non-null  int64  \n",
      " 16  budget                  12389 non-null  object \n",
      " 17  usa_gross_income        9809 non-null   object \n",
      " 18  worldwide_gross_income  13552 non-null  object \n",
      " 19  metascore               9410 non-null   float64\n",
      " 20  reviews_from_users      27571 non-null  float64\n",
      " 21  reviews_from_critics    28257 non-null  int64  \n",
      "dtypes: float64(3), int64(4), object(15)\n",
      "memory usage: 5.0+ MB\n"
     ]
    }
   ],
   "source": [
    "# Check data for null values\n",
    "dfImdb_clean.info()"
   ]
  },
  {
   "cell_type": "markdown",
   "metadata": {},
   "source": [
    "<blockquote><b>Note:</b><br> For the recommender website, the features from the dataframe that will be used are <b><i>title, year, genre, director, avg_vote, description</i></b>. Among these features, <b><i>director</i></b> has null values. One of the ways this can be solved is by using <b>GET API</b> from an external movie database, like what is done to show the movie poster in the Flask app. However, I don't do that here because director is not really a crucial information and can easily be googled if we know the title.</blockquote>"
   ]
  },
  {
   "cell_type": "code",
   "execution_count": 9,
   "metadata": {},
   "outputs": [],
   "source": [
    "# Tokenization & Lemmatization of film description\n",
    "nlp = en_core_web_sm.load()\n",
    "stopwords = spacy.lang.en.stop_words.STOP_WORDS\n",
    "\n",
    "listOfLemmas = []\n",
    "for desc in dfImdb_clean.description :\n",
    "    tokens = nlp(desc)\n",
    "    lemmas = [token.lemma_ for token in tokens]\n",
    "    lemmas_clean = [lemma for lemma in lemmas if lemma.isalpha() and lemma not in stopwords]\n",
    "    lemmas_string = \" \".join(lemmas_clean)\n",
    "    listOfLemmas.append(lemmas_string)"
   ]
  },
  {
   "cell_type": "code",
   "execution_count": 18,
   "metadata": {},
   "outputs": [
    {
     "name": "stdout",
     "output_type": "stream",
     "text": [
      "original string: An English Duke from 1876 is inadvertedly dragged to modern day New York where he falls for a plucky advertising executive.\n",
      "tokenized string: ['An', 'English', 'Duke', 'from', '1876', 'is', 'inadvertedly', 'dragged', 'to', 'modern', 'day', 'New', 'York', 'where', 'he', 'falls', 'for', 'a', 'plucky', 'advertising', 'executive', '.']\n",
      "clean lemmatized tokens: ['English', 'Duke', 'inadvertedly', 'drag', 'modern', 'day', 'New', 'York', 'fall', 'plucky', 'advertising', 'executive']\n"
     ]
    }
   ],
   "source": [
    "# Preview of Tokenization and Lemmatization\n",
    "exampleString = dfImdb_clean.iloc[0].description\n",
    "exampleTokenObject = nlp(exampleString)\n",
    "\n",
    "exampleTokens = [token.text for token in exampleTokenObject]\n",
    "\n",
    "exampleLemmas = [token.lemma_ for token in exampleTokenObject]\n",
    "exampleLemmas_clean = [lemma for lemma in exampleLemmas if lemma.isalpha() and lemma not in stopwords]\n",
    "\n",
    "print('original string:', exampleString)\n",
    "print('tokenized string:', exampleTokens)\n",
    "print('clean lemmatized tokens:', exampleLemmas_clean)"
   ]
  },
  {
   "cell_type": "markdown",
   "metadata": {},
   "source": [
    "<center><b>TfIdf Formula</b><br><img src=\"./tfidf formula.png\" style=\"height:250px;\"></center>"
   ]
  },
  {
   "cell_type": "code",
   "execution_count": 33,
   "metadata": {},
   "outputs": [],
   "source": [
    "# TfIdf\n",
    "\n",
    "tfidf_vectorizer = TfidfVectorizer(ngram_range=(1,2)\n",
    "#                                    max_df=0.8, \n",
    "#                                    max_features=200000, \n",
    "#                                    min_df=0.2, \n",
    "#                                    use_idf=True\n",
    "                                  )\n",
    "\n",
    "tfIdfMatrix = tfidf_vectorizer.fit_transform([doc for doc in listOfLemmas])\n",
    "tfIdfMatrix = tfIdfMatrix.astype(np.float32)"
   ]
  },
  {
   "cell_type": "code",
   "execution_count": 32,
   "metadata": {},
   "outputs": [
    {
     "name": "stdout",
     "output_type": "stream",
     "text": [
      "English Duke inadvertedly drag modern day New York fall plucky advertising executive Hollywood director emerge semi exile plan complete work innovative motion picture\n"
     ]
    },
    {
     "data": {
      "text/plain": [
       "23"
      ]
     },
     "execution_count": 32,
     "metadata": {},
     "output_type": "execute_result"
    }
   ],
   "source": [
    "# Tfidf Vectorizer preview\n",
    "\n",
    "tfidf_vectorizer_example = TfidfVectorizer()\n",
    "tfidf_matrix_example = tfidf_vectorizer_example.fit_transform([doc for doc in listOfLemmas[0:2]])\n",
    "print(listOfLemmas[0], listOfLemmas[1])\n",
    "len(tfidf_matrix_example.toarray()[0])"
   ]
  },
  {
   "cell_type": "code",
   "execution_count": 34,
   "metadata": {},
   "outputs": [],
   "source": [
    "# Hitung skor kemiripan film\n",
    "cos_similarity = cosine_similarity(tfIdfMatrix)"
   ]
  },
  {
   "cell_type": "code",
   "execution_count": 36,
   "metadata": {},
   "outputs": [],
   "source": [
    "# Fungsi rekomendasi\n",
    "\n",
    "def recommend(film) :                     \n",
    "    filmIndex = dfImdb_clean.index.get_loc(dfImdb_clean[dfImdb_clean.title == film].index[0])\n",
    "    similarMovies = list(enumerate(cos_similarity[filmIndex]))\n",
    "    similarMovies = [i for i in similarMovies if i[0] != filmIndex]\n",
    "    similarMovies = sorted(similarMovies, key=lambda x: x[1], reverse=True)\n",
    "\n",
    "    similarMoviesIndexList = []\n",
    "    for i in similarMovies:\n",
    "        similarMoviesIndexList.append(i[0])\n",
    "            \n",
    "    dfSimilarMovies = dfImdb_clean.iloc[similarMoviesIndexList]\n",
    "    return [i for i in dfSimilarMovies.iloc[0:5].title]"
   ]
  },
  {
   "cell_type": "code",
   "execution_count": 37,
   "metadata": {},
   "outputs": [
    {
     "data": {
      "text/plain": [
       "['titanic - la leggenda continua',\n",
       " 'cherry crush',\n",
       " 'changing habits',\n",
       " 'lady bird',\n",
       " 'yelling to the sky']"
      ]
     },
     "execution_count": 37,
     "metadata": {},
     "output_type": "execute_result"
    }
   ],
   "source": [
    "recommend('titanic')"
   ]
  },
  {
   "cell_type": "code",
   "execution_count": 146,
   "metadata": {},
   "outputs": [
    {
     "data": {
      "text/plain": [
       "['dfImdb_clean']"
      ]
     },
     "execution_count": 146,
     "metadata": {},
     "output_type": "execute_result"
    }
   ],
   "source": [
    "# Save dataframe as joblib file for deployment\n",
    "joblib.dump(dfImdb_clean, 'dfImdb_clean')"
   ]
  },
  {
   "cell_type": "code",
   "execution_count": 38,
   "metadata": {},
   "outputs": [
    {
     "data": {
      "text/plain": [
       "['cosSim']"
      ]
     },
     "execution_count": 38,
     "metadata": {},
     "output_type": "execute_result"
    }
   ],
   "source": [
    "# Save cos similarity score as joblib file for deployment\n",
    "joblib.dump(cos_similarity, 'cosSim')"
   ]
  }
 ],
 "metadata": {
  "kernelspec": {
   "display_name": "Python 3",
   "language": "python",
   "name": "python3"
  },
  "language_info": {
   "codemirror_mode": {
    "name": "ipython",
    "version": 3
   },
   "file_extension": ".py",
   "mimetype": "text/x-python",
   "name": "python",
   "nbconvert_exporter": "python",
   "pygments_lexer": "ipython3",
   "version": "3.8.1"
  }
 },
 "nbformat": 4,
 "nbformat_minor": 4
}
