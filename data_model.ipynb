{
 "cells": [
  {
   "cell_type": "code",
   "execution_count": 147,
   "metadata": {},
   "outputs": [],
   "source": [
    "import pandas as pd\n",
    "import numpy as np\n",
    "import mysql.connector\n",
    "import matplotlib.pyplot as plt\n",
    "import nltk\n",
    "import re\n",
    "from sklearn.feature_extraction.text import TfidfVectorizer\n",
    "from sklearn.metrics.pairwise import cosine_similarity\n",
    "import spacy\n",
    "import en_core_web_sm\n",
    "import joblib"
   ]
  },
  {
   "cell_type": "code",
   "execution_count": 3,
   "metadata": {},
   "outputs": [],
   "source": [
    "# Buka Koneksi ke MySQL\n",
    "\n",
    "connection = mysql.connector.connect(host = 'localhost', port = 3306, user = 'Luthfiaed', passwd = '*', database = 'final_project')\n",
    "database = connection.cursor(dictionary=True)"
   ]
  },
  {
   "cell_type": "code",
   "execution_count": null,
   "metadata": {},
   "outputs": [],
   "source": [
    "# Ambil data dari MySQL ke Pandas DataFrame\n",
    "query = 'SELECT * FROM imdbMovies;'\n",
    "database.execute(query)\n",
    "data = database.fetchall()\n",
    "\n",
    "dfImdb = pd.DataFrame(data)"
   ]
  },
  {
   "cell_type": "code",
   "execution_count": 135,
   "metadata": {},
   "outputs": [
    {
     "name": "stderr",
     "output_type": "stream",
     "text": [
      "<ipython-input-135-717e82c29d04>:3: UserWarning: Boolean Series key will be reindexed to match DataFrame index.\n",
      "  dfImdb1990 = dfImdbEng[dfImdb.year >= 1990]\n",
      "<ipython-input-135-717e82c29d04>:4: UserWarning: Boolean Series key will be reindexed to match DataFrame index.\n",
      "  dfImdb_clean = dfImdb1990[dfImdb.description.notnull()]\n",
      "c:\\users\\luthf\\appdata\\local\\programs\\python\\python38\\lib\\site-packages\\pandas\\core\\generic.py:5303: SettingWithCopyWarning: \n",
      "A value is trying to be set on a copy of a slice from a DataFrame.\n",
      "Try using .loc[row_indexer,col_indexer] = value instead\n",
      "\n",
      "See the caveats in the documentation: https://pandas.pydata.org/pandas-docs/stable/user_guide/indexing.html#returning-a-view-versus-a-copy\n",
      "  self[name] = value\n"
     ]
    },
    {
     "data": {
      "text/plain": [
       "(28257, 22)"
      ]
     },
     "execution_count": 135,
     "metadata": {},
     "output_type": "execute_result"
    }
   ],
   "source": [
    "# Bersihkan data\n",
    "dfImdbEng = dfImdb[dfImdb.language.astype('str').str.contains(\"English\")] \n",
    "dfImdb1990 = dfImdbEng[dfImdb.year >= 1990]\n",
    "dfImdb_clean = dfImdb1990[dfImdb.description.notnull()]\n",
    "dfImdb_clean.title = dfImdb_clean.title.apply(lambda x: x.lower())\n",
    "\n",
    "dfImdb_clean.shape"
   ]
  },
  {
   "cell_type": "code",
   "execution_count": 136,
   "metadata": {},
   "outputs": [],
   "source": [
    "# Tokenization & Lemmatization deskripsi film\n",
    "nlp = en_core_web_sm.load()\n",
    "stopwords = spacy.lang.en.stop_words.STOP_WORDS\n",
    "\n",
    "listOfLemmas = []\n",
    "for desc in dfImdb_clean.description :\n",
    "    tokens = nlp(desc)\n",
    "    lemmas = [token.lemma_ for token in tokens]\n",
    "    lemmas_clean = [lemma for lemma in lemmas if lemma.isalpha() and lemma not in stopwords]\n",
    "    lemmas_string = \" \".join(lemmas_clean)\n",
    "    listOfLemmas.append(lemmas_string)"
   ]
  },
  {
   "cell_type": "code",
   "execution_count": 137,
   "metadata": {},
   "outputs": [],
   "source": [
    "# Buat model TfIdf\n",
    "\n",
    "tfidf_vectorizer = TfidfVectorizer(\n",
    "#                                    max_df=0.8, \n",
    "#                                    max_features=200000, \n",
    "#                                    min_df=0.2, \n",
    "#                                    stop_words='english', \n",
    "#                                    use_idf=True, \n",
    "#                                    tokenizer=tokenize_and_stem, \n",
    "#                                    ngram_range=(1,3)\n",
    "                                  )\n",
    "\n",
    "tfIdfMatrix = tfidf_vectorizer.fit_transform([doc for doc in listOfLemmas])\n",
    "tfIdfMatrix = tfIdfMatrix.astype(np.float32)"
   ]
  },
  {
   "cell_type": "code",
   "execution_count": 138,
   "metadata": {},
   "outputs": [],
   "source": [
    "# Hitung skor kemiripan film\n",
    "\n",
    "cos_similarity = cosine_similarity(tfIdfMatrix)\n",
    "similarity_distance = 1 - cos_similarity"
   ]
  },
  {
   "cell_type": "code",
   "execution_count": 139,
   "metadata": {},
   "outputs": [],
   "source": [
    "# Fungsi rekomendasi\n",
    "\n",
    "def recommend(film) :                     \n",
    "    filmIndex = dfImdb_clean.index.get_loc(dfImdb_clean[dfImdb_clean.title == film].index[0])\n",
    "    similarMovies = list(enumerate(similarity_distance[filmIndex]))\n",
    "    similarMovies = [i for i in similarMovies if i[0] != filmIndex]\n",
    "    similarMovies = sorted(similarMovies, key=lambda x: x[1], reverse=False)\n",
    "\n",
    "    similarMoviesList = []\n",
    "    \n",
    "    for i in similarMovies[:5]:\n",
    "        similarMoviesList.append(dfImdb_clean.iloc[i[0]])\n",
    "    \n",
    "    dfSimilarMovies = pd.DataFrame(similarMoviesList)\n",
    "    \n",
    "    return [i for i in dfSimilarMovies.index]"
   ]
  },
  {
   "cell_type": "code",
   "execution_count": 144,
   "metadata": {},
   "outputs": [
    {
     "data": {
      "text/plain": [
       "['simDistance']"
      ]
     },
     "execution_count": 144,
     "metadata": {},
     "output_type": "execute_result"
    }
   ],
   "source": [
    "joblib.dump(similarity_distance, 'simDistance')"
   ]
  },
  {
   "cell_type": "code",
   "execution_count": 146,
   "metadata": {},
   "outputs": [
    {
     "data": {
      "text/plain": [
       "['dfImdb_clean']"
      ]
     },
     "execution_count": 146,
     "metadata": {},
     "output_type": "execute_result"
    }
   ],
   "source": [
    "joblib.dump(dfImdb_clean, 'dfImdb_clean')"
   ]
  },
  {
   "cell_type": "code",
   "execution_count": null,
   "metadata": {},
   "outputs": [],
   "source": []
  }
 ],
 "metadata": {
  "kernelspec": {
   "display_name": "Python 3",
   "language": "python",
   "name": "python3"
  },
  "language_info": {
   "codemirror_mode": {
    "name": "ipython",
    "version": 3
   },
   "file_extension": ".py",
   "mimetype": "text/x-python",
   "name": "python",
   "nbconvert_exporter": "python",
   "pygments_lexer": "ipython3",
   "version": "3.8.1"
  }
 },
 "nbformat": 4,
 "nbformat_minor": 4
}
